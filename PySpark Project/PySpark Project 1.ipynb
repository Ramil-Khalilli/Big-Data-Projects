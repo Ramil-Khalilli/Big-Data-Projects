{
 "cells": [
  {
   "cell_type": "markdown",
   "id": "9694af82-ae0b-4d19-b3cf-98888f8dbd8d",
   "metadata": {},
   "source": [
    "# PySpark Initilization and Data Observing"
   ]
  },
  {
   "cell_type": "code",
   "execution_count": 417,
   "id": "d3cc4941-a0eb-461c-bec3-344e5fd5c40f",
   "metadata": {},
   "outputs": [],
   "source": [
    "# Importing necessaru libraries.\n",
    "import pyspark\n",
    "import pyspark.sql.functions as F\n",
    "from pyspark.sql.functions import mean\n",
    "from pyspark.ml.feature import OneHotEncoder, StandardScaler, VectorAssembler\n",
    "from pyspark.ml.classification import LogisticRegression\n",
    "from pyspark.ml.evaluation import BinaryClassificationEvaluator\n",
    "from pyspark.ml import Pipeline"
   ]
  },
  {
   "cell_type": "code",
   "execution_count": 308,
   "id": "58656277-cbbc-4d55-90f0-76b1529dee8f",
   "metadata": {},
   "outputs": [],
   "source": [
    "# Creating a PySpark session.\n",
    "spark = pyspark.sql.SparkSession.builder.appName('PySpark Project 1').getOrCreate()"
   ]
  },
  {
   "cell_type": "code",
   "execution_count": 310,
   "id": "92c2dbfa-6f1d-4e05-875b-7a1cc1d767ef",
   "metadata": {},
   "outputs": [],
   "source": [
    "# Fetching the data.\n",
    "data = spark.read.format('csv').option('header', 'true').option('inferSchema', 'true').load('titanic.csv')"
   ]
  },
  {
   "cell_type": "code",
   "execution_count": 311,
   "id": "1d6532aa-ae3f-435b-8d47-a00bdc1c213d",
   "metadata": {},
   "outputs": [
    {
     "name": "stdout",
     "output_type": "stream",
     "text": [
      "+------+--------+--------------------+------+------+-----+-----+------+--------+-------+--------+----+----+--------------------+\n",
      "|pclass|survived|                name|   sex|   age|sibsp|parch|ticket|    fare|  cabin|embarked|boat|body|           home.dest|\n",
      "+------+--------+--------------------+------+------+-----+-----+------+--------+-------+--------+----+----+--------------------+\n",
      "|     1|       1|Allen, Miss. Elis...|female|    29|    0|    0| 24160|211.3375|     B5|       S|   2|   ?|        St Louis, MO|\n",
      "|     1|       1|Allison, Master. ...|  male|0.9167|    1|    2|113781|  151.55|C22 C26|       S|  11|   ?|Montreal, PQ / Ch...|\n",
      "|     1|       0|Allison, Miss. He...|female|     2|    1|    2|113781|  151.55|C22 C26|       S|   ?|   ?|Montreal, PQ / Ch...|\n",
      "|     1|       0|Allison, Mr. Huds...|  male|    30|    1|    2|113781|  151.55|C22 C26|       S|   ?| 135|Montreal, PQ / Ch...|\n",
      "|     1|       0|Allison, Mrs. Hud...|female|    25|    1|    2|113781|  151.55|C22 C26|       S|   ?|   ?|Montreal, PQ / Ch...|\n",
      "+------+--------+--------------------+------+------+-----+-----+------+--------+-------+--------+----+----+--------------------+\n",
      "only showing top 5 rows\n"
     ]
    }
   ],
   "source": [
    "# Observing it.\n",
    "data.show(5)"
   ]
  },
  {
   "cell_type": "code",
   "execution_count": 313,
   "id": "34593c26-43f4-4468-ae9d-a1c3068e190c",
   "metadata": {},
   "outputs": [
    {
     "name": "stdout",
     "output_type": "stream",
     "text": [
      "root\n",
      " |-- pclass: integer (nullable = true)\n",
      " |-- survived: integer (nullable = true)\n",
      " |-- name: string (nullable = true)\n",
      " |-- sex: string (nullable = true)\n",
      " |-- age: string (nullable = true)\n",
      " |-- sibsp: integer (nullable = true)\n",
      " |-- parch: integer (nullable = true)\n",
      " |-- ticket: string (nullable = true)\n",
      " |-- fare: string (nullable = true)\n",
      " |-- cabin: string (nullable = true)\n",
      " |-- embarked: string (nullable = true)\n",
      " |-- boat: string (nullable = true)\n",
      " |-- body: string (nullable = true)\n",
      " |-- home.dest: string (nullable = true)\n",
      "\n"
     ]
    }
   ],
   "source": [
    "# Getting information about the columns of our dataset.\n",
    "data.printSchema()"
   ]
  },
  {
   "cell_type": "markdown",
   "id": "2d107c56-7a60-43e6-bdd5-e80968ecdd59",
   "metadata": {},
   "source": [
    "# Data Cleaning"
   ]
  },
  {
   "cell_type": "code",
   "execution_count": 317,
   "id": "f7bd512c-6229-4991-a53b-9a808210bc33",
   "metadata": {},
   "outputs": [],
   "source": [
    "# We have a lot of '?' string in our dataaet so I will replace it null.\n",
    "data = data.replace('?', None)"
   ]
  },
  {
   "cell_type": "code",
   "execution_count": 319,
   "id": "5f89ebc9-a5c9-4eee-a409-2f5f140faa2b",
   "metadata": {},
   "outputs": [
    {
     "name": "stdout",
     "output_type": "stream",
     "text": [
      "+------+\n",
      "|   age|\n",
      "+------+\n",
      "|  20.5|\n",
      "|0.9167|\n",
      "|  38.5|\n",
      "|    51|\n",
      "|     7|\n",
      "|  26.5|\n",
      "|  0.75|\n",
      "|    54|\n",
      "|    15|\n",
      "|    11|\n",
      "|0.4167|\n",
      "|    29|\n",
      "|  22.5|\n",
      "|    42|\n",
      "|0.3333|\n",
      "|    64|\n",
      "|     3|\n",
      "|    30|\n",
      "|    34|\n",
      "|    59|\n",
      "+------+\n",
      "only showing top 20 rows\n"
     ]
    }
   ],
   "source": [
    "# Observing unique values inside the 'age' column.\n",
    "data.select('age').distinct().show()"
   ]
  },
  {
   "cell_type": "markdown",
   "id": "253bcd3c-c37e-479b-b4cf-24b690d5208f",
   "metadata": {},
   "source": [
    "*This column should be numerical (double)*"
   ]
  },
  {
   "cell_type": "code",
   "execution_count": 322,
   "id": "2e062c70-8daf-44da-b55a-e989b8e53ad8",
   "metadata": {},
   "outputs": [],
   "source": [
    "# Converting age column to numeric data type.\n",
    "data = data.withColumn('age', F.col('age').cast('double'))"
   ]
  },
  {
   "cell_type": "code",
   "execution_count": 324,
   "id": "c1a57528-bff2-4412-a937-5706834e83a3",
   "metadata": {},
   "outputs": [
    {
     "name": "stdout",
     "output_type": "stream",
     "text": [
      "+------+\n",
      "|   age|\n",
      "+------+\n",
      "|  29.0|\n",
      "|0.9167|\n",
      "|   2.0|\n",
      "|  30.0|\n",
      "|  25.0|\n",
      "|  48.0|\n",
      "|  63.0|\n",
      "|  39.0|\n",
      "|  53.0|\n",
      "|  71.0|\n",
      "|  47.0|\n",
      "|  18.0|\n",
      "|  24.0|\n",
      "|  26.0|\n",
      "|  80.0|\n",
      "|  NULL|\n",
      "|  24.0|\n",
      "|  50.0|\n",
      "|  32.0|\n",
      "|  36.0|\n",
      "+------+\n",
      "only showing top 20 rows\n"
     ]
    }
   ],
   "source": [
    "data.select('age').show()"
   ]
  },
  {
   "cell_type": "code",
   "execution_count": 325,
   "id": "d8112f0b-4693-4f9a-af41-299673af93ee",
   "metadata": {},
   "outputs": [],
   "source": [
    "# The 'fare' column should numeric as well.\n",
    "data = data.withColumn('fare', F.col('age').cast('double'))"
   ]
  },
  {
   "cell_type": "code",
   "execution_count": 328,
   "id": "61a58413-fb51-4e78-9130-35d934133e0a",
   "metadata": {},
   "outputs": [
    {
     "name": "stdout",
     "output_type": "stream",
     "text": [
      "root\n",
      " |-- pclass: integer (nullable = true)\n",
      " |-- survived: integer (nullable = true)\n",
      " |-- name: string (nullable = true)\n",
      " |-- sex: string (nullable = true)\n",
      " |-- age: double (nullable = true)\n",
      " |-- sibsp: integer (nullable = true)\n",
      " |-- parch: integer (nullable = true)\n",
      " |-- ticket: string (nullable = true)\n",
      " |-- fare: double (nullable = true)\n",
      " |-- cabin: string (nullable = true)\n",
      " |-- embarked: string (nullable = true)\n",
      " |-- boat: string (nullable = true)\n",
      " |-- body: string (nullable = true)\n",
      " |-- home.dest: string (nullable = true)\n",
      "\n"
     ]
    }
   ],
   "source": [
    "data.printSchema()"
   ]
  },
  {
   "cell_type": "code",
   "execution_count": 330,
   "id": "5dba2998-a25e-4e3e-9b54-a4c0c0a28ff0",
   "metadata": {},
   "outputs": [],
   "source": [
    "data = data.drop('home.dest')"
   ]
  },
  {
   "cell_type": "code",
   "execution_count": 332,
   "id": "2d182cb3-a121-4b5d-9dea-71eccfaa3094",
   "metadata": {},
   "outputs": [
    {
     "name": "stdout",
     "output_type": "stream",
     "text": [
      "+------+--------+----+---+-----+-----+-----+------+-----+-----+--------+-----+-----+\n",
      "|pclass|survived|name|sex|  age|sibsp|parch|ticket| fare|cabin|embarked| boat| body|\n",
      "+------+--------+----+---+-----+-----+-----+------+-----+-----+--------+-----+-----+\n",
      "|   0.0|     0.0| 0.0|0.0|20.09|  0.0|  0.0|   0.0|20.09|77.46|    0.15|62.87|90.76|\n",
      "+------+--------+----+---+-----+-----+-----+------+-----+-----+--------+-----+-----+\n",
      "\n"
     ]
    }
   ],
   "source": [
    "total_rows = data.count()\n",
    "\n",
    "null_percentages = data.select([\n",
    "    F.round(F.sum(F.when(F.col(f\"`{c}`\").isNull(), 1).otherwise(0)) / total_rows * 100, 2)\n",
    "        .alias(c)\n",
    "    for c in data.columns\n",
    "])\n",
    "\n",
    "null_percentages.show()"
   ]
  },
  {
   "cell_type": "markdown",
   "id": "b3b8980d-3ca0-4747-99c5-68d0f3eba02b",
   "metadata": {},
   "source": [
    "#### Large proportions of columns like 'cabin', 'boat' and 'body' are missing so I will remove those columns since they will be problem in modeling phase."
   ]
  },
  {
   "cell_type": "code",
   "execution_count": 335,
   "id": "fa0b0bba-737d-4fea-848e-211f8dd26e2f",
   "metadata": {},
   "outputs": [],
   "source": [
    "data = data.drop('cabin', 'boat', 'body')"
   ]
  },
  {
   "cell_type": "code",
   "execution_count": 337,
   "id": "02582c58-e15d-4da3-b880-81e2616e0c57",
   "metadata": {},
   "outputs": [
    {
     "name": "stdout",
     "output_type": "stream",
     "text": [
      "+------+--------+--------------------+------+------+-----+-----+------+------+--------+\n",
      "|pclass|survived|                name|   sex|   age|sibsp|parch|ticket|  fare|embarked|\n",
      "+------+--------+--------------------+------+------+-----+-----+------+------+--------+\n",
      "|     1|       1|Allen, Miss. Elis...|female|  29.0|    0|    0| 24160|  29.0|       S|\n",
      "|     1|       1|Allison, Master. ...|  male|0.9167|    1|    2|113781|0.9167|       S|\n",
      "|     1|       0|Allison, Miss. He...|female|   2.0|    1|    2|113781|   2.0|       S|\n",
      "|     1|       0|Allison, Mr. Huds...|  male|  30.0|    1|    2|113781|  30.0|       S|\n",
      "|     1|       0|Allison, Mrs. Hud...|female|  25.0|    1|    2|113781|  25.0|       S|\n",
      "+------+--------+--------------------+------+------+-----+-----+------+------+--------+\n",
      "only showing top 5 rows\n"
     ]
    }
   ],
   "source": [
    "data.show(5)"
   ]
  },
  {
   "cell_type": "code",
   "execution_count": 381,
   "id": "ec1fd574-5ca4-4f02-9f92-28c334aa1401",
   "metadata": {},
   "outputs": [],
   "source": [
    "# I will fill missing values in 'embarked' column.\n",
    "from pyspark.sql.functions import col\n",
    "mode_value_em = (\n",
    "    data.groupBy(\"embarked\")\n",
    "        .count()\n",
    "        .orderBy(col(\"count\").desc())\n",
    "        .first()[0]\n",
    ")\n",
    "data = data.fillna({'embarked': mode_value_em})"
   ]
  },
  {
   "cell_type": "code",
   "execution_count": 419,
   "id": "b2f2682c-4391-4fe0-a426-e0eadbfacf5f",
   "metadata": {},
   "outputs": [],
   "source": [
    "# Now let's fill missing values in numerical columns.\n",
    "numeric_cols = ['age', 'fare']\n",
    "\n",
    "for c in numeric_cols:\n",
    "    mean_value = data.select(mean(c)).first()[0]\n",
    "    data = data.fillna({c: mean_value})"
   ]
  },
  {
   "cell_type": "markdown",
   "id": "18627c83-2546-4376-961e-b4b82808e9fb",
   "metadata": {},
   "source": [
    "#### We do not need 'name' and 'ticket' columns which are unique and will add nothig to a model."
   ]
  },
  {
   "cell_type": "code",
   "execution_count": 422,
   "id": "a057acf7-cc0b-4740-9fac-48e2e01542ac",
   "metadata": {},
   "outputs": [
    {
     "name": "stdout",
     "output_type": "stream",
     "text": [
      "+------+--------+------+------+-----+-----+------+--------+\n",
      "|pclass|survived|   sex|   age|sibsp|parch|  fare|embarked|\n",
      "+------+--------+------+------+-----+-----+------+--------+\n",
      "|     1|       1|female|  29.0|    0|    0|  29.0|       S|\n",
      "|     1|       1|  male|0.9167|    1|    2|0.9167|       S|\n",
      "|     1|       0|female|   2.0|    1|    2|   2.0|       S|\n",
      "|     1|       0|  male|  30.0|    1|    2|  30.0|       S|\n",
      "|     1|       0|female|  25.0|    1|    2|  25.0|       S|\n",
      "+------+--------+------+------+-----+-----+------+--------+\n",
      "only showing top 5 rows\n"
     ]
    }
   ],
   "source": [
    "data = data.drop('name', 'ticket')\n",
    "data.show(5)"
   ]
  },
  {
   "cell_type": "code",
   "execution_count": 424,
   "id": "8e4fa9ca-cb59-484c-aab9-2fcf020c9794",
   "metadata": {},
   "outputs": [
    {
     "name": "stdout",
     "output_type": "stream",
     "text": [
      "root\n",
      " |-- pclass: integer (nullable = true)\n",
      " |-- survived: integer (nullable = true)\n",
      " |-- sex: string (nullable = true)\n",
      " |-- age: double (nullable = false)\n",
      " |-- sibsp: integer (nullable = true)\n",
      " |-- parch: integer (nullable = true)\n",
      " |-- fare: double (nullable = false)\n",
      " |-- embarked: string (nullable = false)\n",
      "\n"
     ]
    }
   ],
   "source": [
    "data.printSchema()"
   ]
  },
  {
   "cell_type": "markdown",
   "id": "79910515-0ead-4fe0-b4d2-dedec524ba35",
   "metadata": {},
   "source": [
    "# Data Exploration"
   ]
  },
  {
   "cell_type": "code",
   "execution_count": 427,
   "id": "78a6349a-8660-4cbe-9ba1-03f9b4b61f5c",
   "metadata": {},
   "outputs": [
    {
     "name": "stdout",
     "output_type": "stream",
     "text": [
      "+------+------------------+\n",
      "|   sex|          avg(age)|\n",
      "+------+------------------+\n",
      "|female|28.886935390492333|\n",
      "|  male|30.430715521707075|\n",
      "+------+------------------+\n",
      "\n"
     ]
    }
   ],
   "source": [
    "# Let's see average age of male and female passengers.\n",
    "data.groupBy('sex').agg({'age': 'mean'}).show()"
   ]
  },
  {
   "cell_type": "code",
   "execution_count": 429,
   "id": "3668030c-d56c-4a6d-b9c4-d5af6945be73",
   "metadata": {},
   "outputs": [
    {
     "name": "stdout",
     "output_type": "stream",
     "text": [
      "+--------+------------------+\n",
      "|survived|          avg(age)|\n",
      "+--------+------------------+\n",
      "|       1|29.058812438814574|\n",
      "|       0| 30.38936817968011|\n",
      "+--------+------------------+\n",
      "\n"
     ]
    }
   ],
   "source": [
    "# Now let's if there is any relation between an age and being survived.\n",
    "data.groupBy('survived').agg({'age': 'mean'}).show()"
   ]
  },
  {
   "cell_type": "markdown",
   "id": "f69b99fe-644b-45fd-8a1a-2e43dc1b0849",
   "metadata": {},
   "source": [
    "Not too much difference."
   ]
  },
  {
   "cell_type": "code",
   "execution_count": 432,
   "id": "9cffdb33-8ecb-46cb-ad26-2060a9c8aa64",
   "metadata": {},
   "outputs": [
    {
     "name": "stdout",
     "output_type": "stream",
     "text": [
      "+------+-------------------+\n",
      "|   sex|      avg(survived)|\n",
      "+------+-------------------+\n",
      "|female| 0.7274678111587983|\n",
      "|  male|0.19098457888493475|\n",
      "+------+-------------------+\n",
      "\n"
     ]
    }
   ],
   "source": [
    "# Let's see if survivability has something to do with gender.\n",
    "data.groupBy('sex').agg({'survived': 'mean'}).show()"
   ]
  },
  {
   "cell_type": "markdown",
   "id": "f62faa4c-7966-4074-8dfc-57765e2fdd71",
   "metadata": {},
   "source": [
    "Yes there is a correlation."
   ]
  },
  {
   "cell_type": "code",
   "execution_count": 435,
   "id": "16b8090b-8c77-4cf4-b93d-196dcac1544a",
   "metadata": {},
   "outputs": [
    {
     "name": "stdout",
     "output_type": "stream",
     "text": [
      "+------+------------------+\n",
      "|pclass|     avg(survived)|\n",
      "+------+------------------+\n",
      "|     1|0.6191950464396285|\n",
      "|     3|0.2552891396332863|\n",
      "|     2|0.4296028880866426|\n",
      "+------+------------------+\n",
      "\n"
     ]
    }
   ],
   "source": [
    "# Now let's see if pclass has something to do with survivability.\n",
    "data.groupBy('pclass').agg({'survived': 'mean'}).show()"
   ]
  },
  {
   "cell_type": "markdown",
   "id": "7c77c645-e4f6-4e3a-9fc6-d0fa60238039",
   "metadata": {},
   "source": [
    "Yes, there is a high correlation there as well people from upper class survived more on average."
   ]
  },
  {
   "cell_type": "markdown",
   "id": "689d9e90-cbb8-4f8c-9cb0-fb4c4d7d9b2b",
   "metadata": {},
   "source": [
    "# Encoding and Scaling"
   ]
  },
  {
   "cell_type": "code",
   "execution_count": 439,
   "id": "56c1cb37-566f-4abf-b630-ef43db90e19b",
   "metadata": {},
   "outputs": [
    {
     "name": "stdout",
     "output_type": "stream",
     "text": [
      "root\n",
      " |-- pclass: integer (nullable = true)\n",
      " |-- survived: integer (nullable = true)\n",
      " |-- sex: string (nullable = true)\n",
      " |-- age: double (nullable = false)\n",
      " |-- sibsp: integer (nullable = true)\n",
      " |-- parch: integer (nullable = true)\n",
      " |-- fare: double (nullable = false)\n",
      " |-- embarked: string (nullable = false)\n",
      "\n"
     ]
    }
   ],
   "source": [
    "data.printSchema()"
   ]
  },
  {
   "cell_type": "code",
   "execution_count": 468,
   "id": "d8d2ed69-e6ce-4f50-8878-4cd14b56e63d",
   "metadata": {},
   "outputs": [],
   "source": [
    "categorical_cols = [\"sex\", \"embarked\"]\n",
    "indexed_cols = [c + \"_indexed\" for c in categorical_cols]\n",
    "encoded_cols = [c + \"_encoded\" for c in categorical_cols]\n",
    "\n",
    "indexers = [\n",
    "    StringIndexer(inputCol=c, outputCol=ic, handleInvalid='keep') \n",
    "    for c, ic in zip(categorical_cols, indexed_cols)\n",
    "]\n",
    "encoder = OneHotEncoder(inputCols=indexed_cols, outputCols=encoded_cols)"
   ]
  },
  {
   "cell_type": "code",
   "execution_count": 470,
   "id": "1950ea73-0837-43f6-b9e2-3391031445d3",
   "metadata": {},
   "outputs": [],
   "source": [
    "numeric_cols = [\"pclass\", \"age\", \"sibsp\", \"parch\", \"fare\"]\n",
    "\n",
    "# First, assembling numeric features into one vector\n",
    "numeric_assembler = VectorAssembler(inputCols=numeric_cols, outputCol=\"numeric_features\")\n",
    "\n",
    "# Scaling numeric features\n",
    "scaler = StandardScaler(inputCol=\"numeric_features\", outputCol=\"scaled_numeric_features\")"
   ]
  },
  {
   "cell_type": "code",
   "execution_count": 472,
   "id": "b66f0d9c-a597-490e-82d8-70de79b4c2dd",
   "metadata": {},
   "outputs": [],
   "source": [
    "# Combining scaled numeric + encoded categorical features\n",
    "assembler_inputs = encoded_cols + [\"scaled_numeric_features\"]\n",
    "final_assembler = VectorAssembler(inputCols=assembler_inputs, outputCol=\"features\")"
   ]
  },
  {
   "cell_type": "code",
   "execution_count": 474,
   "id": "567b9936-63f3-4dcc-9c89-73b809caf5fe",
   "metadata": {},
   "outputs": [],
   "source": [
    "stages = indexers + [encoder, numeric_assembler, scaler, final_assembler]\n",
    "pipeline = Pipeline(stages=stages)\n",
    "\n",
    "# Fitting & transforming.\n",
    "data_prepared = pipeline.fit(data).transform(data)"
   ]
  },
  {
   "cell_type": "code",
   "execution_count": 476,
   "id": "f909abe3-0169-41fc-8fcb-19b678649e31",
   "metadata": {},
   "outputs": [
    {
     "name": "stdout",
     "output_type": "stream",
     "text": [
      "+--------------------------------------------------------------------------------------------------------------------+--------+\n",
      "|features                                                                                                            |survived|\n",
      "+--------------------------------------------------------------------------------------------------------------------+--------+\n",
      "|(10,[1,2,5,6,9],[1.0,1.0,1.1935509781844968,2.2509937091094283,2.2509937091094283])                                 |1       |\n",
      "|[1.0,0.0,1.0,0.0,0.0,1.1935509781844968,0.07115468734967631,0.9600076272872315,2.31064208577779,0.07115468734967631]|1       |\n",
      "|[0.0,1.0,1.0,0.0,0.0,1.1935509781844968,0.15524094545582265,0.9600076272872315,2.31064208577779,0.15524094545582265]|0       |\n",
      "|[1.0,0.0,1.0,0.0,0.0,1.1935509781844968,2.32861418183734,0.9600076272872315,2.31064208577779,2.32861418183734]      |0       |\n",
      "|[0.0,1.0,1.0,0.0,0.0,1.1935509781844968,1.9405118181977832,0.9600076272872315,2.31064208577779,1.9405118181977832]  |0       |\n",
      "+--------------------------------------------------------------------------------------------------------------------+--------+\n",
      "only showing top 5 rows\n"
     ]
    }
   ],
   "source": [
    "data_prepared.select(\"features\", \"survived\").show(5, truncate=False)"
   ]
  },
  {
   "cell_type": "markdown",
   "id": "b76395a4-0b6e-41cc-8d74-bc54872e78c8",
   "metadata": {},
   "source": [
    "# Modeling"
   ]
  },
  {
   "cell_type": "code",
   "execution_count": 478,
   "id": "f1310994-cd13-4c3d-94c7-f857caea089c",
   "metadata": {},
   "outputs": [],
   "source": [
    "# Train Test split.\n",
    "train_data, test_data = data_prepared.randomSplit([0.8, 0.2], seed=42)"
   ]
  },
  {
   "cell_type": "code",
   "execution_count": 482,
   "id": "e7baff3f-c612-487d-bf46-d551c392e69d",
   "metadata": {},
   "outputs": [],
   "source": [
    "lr = LogisticRegression(featuresCol=\"features\", labelCol=\"survived\")\n",
    "lr_model = lr.fit(train_data)"
   ]
  },
  {
   "cell_type": "code",
   "execution_count": 484,
   "id": "bb74ff9e-afc1-48c2-af69-0b5acfa89cd7",
   "metadata": {},
   "outputs": [
    {
     "name": "stdout",
     "output_type": "stream",
     "text": [
      "+------------------------------------------------------------------------------------------------------------------+--------+----------+----------------------------------------+\n",
      "|features                                                                                                          |survived|prediction|probability                             |\n",
      "+------------------------------------------------------------------------------------------------------------------+--------+----------+----------------------------------------+\n",
      "|(10,[1,3,5,6,9],[1.0,1.0,1.1935509781844968,2.7943370182048075,2.7943370182048075])                               |0       |1.0       |[0.0505485294132934,0.9494514705867066] |\n",
      "|[1.0,0.0,0.0,1.0,0.0,1.1935509781844968,1.3971685091024038,0.9600076272872315,0.0,1.3971685091024038]             |0       |1.0       |[0.37591972322532635,0.6240802767746736]|\n",
      "|[1.0,0.0,1.0,0.0,0.0,1.1935509781844968,1.4747889818303153,2.8800228818616946,2.31064208577779,1.4747889818303153]|0       |0.0       |[0.7271247339004918,0.2728752660995082] |\n",
      "|[1.0,0.0,0.0,1.0,0.0,1.1935509781844968,1.8628913454698717,0.0,1.155321042888895,1.8628913454698717]              |0       |1.0       |[0.3537770889342746,0.6462229110657254] |\n",
      "|[1.0,0.0,0.0,1.0,0.0,1.1935509781844968,2.1733732363815172,0.9600076272872315,0.0,2.1733732363815172]             |0       |1.0       |[0.45320231990193277,0.5467976800980672]|\n",
      "+------------------------------------------------------------------------------------------------------------------+--------+----------+----------------------------------------+\n",
      "only showing top 5 rows\n"
     ]
    }
   ],
   "source": [
    "predictions = lr_model.transform(test_data)\n",
    "predictions.select(\"features\", \"survived\", \"prediction\", \"probability\").show(5, truncate=False)"
   ]
  },
  {
   "cell_type": "code",
   "execution_count": 488,
   "id": "74d49ffc-fdad-43e0-a926-314dfe317e3e",
   "metadata": {},
   "outputs": [
    {
     "name": "stdout",
     "output_type": "stream",
     "text": [
      "AUC: 0.8115033222591362\n"
     ]
    }
   ],
   "source": [
    "evaluator = BinaryClassificationEvaluator(labelCol=\"survived\", metricName=\"areaUnderROC\")\n",
    "auc = evaluator.evaluate(predictions)\n",
    "print(\"AUC:\", auc)"
   ]
  },
  {
   "cell_type": "markdown",
   "id": "4bb4be6f-32ce-4c5a-bf14-7caf1e50c8e7",
   "metadata": {},
   "source": [
    "The model performed very well."
   ]
  }
 ],
 "metadata": {
  "kernelspec": {
   "display_name": "Python [conda env:base] *",
   "language": "python",
   "name": "conda-base-py"
  },
  "language_info": {
   "codemirror_mode": {
    "name": "ipython",
    "version": 3
   },
   "file_extension": ".py",
   "mimetype": "text/x-python",
   "name": "python",
   "nbconvert_exporter": "python",
   "pygments_lexer": "ipython3",
   "version": "3.12.7"
  }
 },
 "nbformat": 4,
 "nbformat_minor": 5
}
